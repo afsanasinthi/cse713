{
  "nbformat": 4,
  "nbformat_minor": 0,
  "metadata": {
    "colab": {
      "provenance": [],
      "authorship_tag": "ABX9TyMlZuqsLiTHzOGXMxxYXrlC",
      "include_colab_link": true
    },
    "kernelspec": {
      "name": "python3",
      "display_name": "Python 3"
    },
    "language_info": {
      "name": "python"
    }
  },
  "cells": [
    {
      "cell_type": "markdown",
      "metadata": {
        "id": "view-in-github",
        "colab_type": "text"
      },
      "source": [
        "<a href=\"https://colab.research.google.com/github/afsanasinthi/cse713/blob/main/desenet_up.ipynb\" target=\"_parent\"><img src=\"https://colab.research.google.com/assets/colab-badge.svg\" alt=\"Open In Colab\"/></a>"
      ]
    },
    {
      "cell_type": "code",
      "execution_count": null,
      "metadata": {
        "id": "R-lg0IZGLvQj"
      },
      "outputs": [],
      "source": [
        "from tensorflow.compat.v1 import ConfigProto\n",
        "from tensorflow.compat.v1 import InteractiveSession\n",
        "\n",
        "config = ConfigProto()\n",
        "config.gpu_options.per_process_gpu_memory_fraction = 0.2\n",
        "config.gpu_options.allow_growth = True\n",
        "session = InteractiveSession(config=config)"
      ]
    },
    {
      "cell_type": "code",
      "source": [
        "# import the libraries as shown below\n",
        "\n",
        "from tensorflow.keras.layers import Input, Lambda, Dense, Flatten\n",
        "from tensorflow.keras.models import Model\n",
        "#from tensorflow.keras.applications.resnet152V2 import ResNet152V2\n",
        "#from keras.applications.vgg16 import VGG16\n",
        "from tensorflow.keras.applications.inception_v3 import preprocess_input\n",
        "from tensorflow.keras.preprocessing import image\n",
        "from tensorflow.keras.preprocessing.image import ImageDataGenerator,load_img\n",
        "from tensorflow.keras.models import Sequential\n",
        "import numpy as np\n",
        "from glob import glob\n",
        "#import matplotlib.pyplot as plt"
      ],
      "metadata": {
        "id": "SAgMYlzvMFrT"
      },
      "execution_count": null,
      "outputs": []
    },
    {
      "cell_type": "code",
      "source": [
        "from google.colab import drive\n",
        "drive.mount('/content/drive')"
      ],
      "metadata": {
        "id": "5sB7o_kxk6I7"
      },
      "execution_count": null,
      "outputs": []
    },
    {
      "cell_type": "code",
      "source": [
        "# re-size all the images to this\n",
        "IMAGE_SIZE = [224, 224]\n",
        "batch_size = 32\n",
        "epochs = 50\n",
        "train_path = '/content/drive/MyDrive/SunflowerDiseaseClassification/new_dataset_v1/train'\n",
        "valid_path = '/content/drive/MyDrive/SunflowerDiseaseClassification/new_dataset_v1/val'"
      ],
      "metadata": {
        "id": "hjxAXxbwMJ8H"
      },
      "execution_count": null,
      "outputs": []
    },
    {
      "cell_type": "code",
      "source": [
        "from tensorflow.keras.applications.densenet import DenseNet121"
      ],
      "metadata": {
        "id": "ewHOaXCIMXDY"
      },
      "execution_count": null,
      "outputs": []
    },
    {
      "cell_type": "code",
      "source": [
        "# Import the Vgg 16 library as shown below and add preprocessing layer to the front of VGG\n",
        "# Here we will be using imagenet weights\n",
        "# import tensorflow\n",
        "# InceptionV3 =tensorflow.keras.applications.inception_v3(input_shape=IMAGE_SIZE + [3], weights='imagenet', include_top=False)\n",
        "densenet121=DenseNet121(input_shape=IMAGE_SIZE + [3], weights='imagenet', include_top=False)"
      ],
      "metadata": {
        "id": "_1pdC4AdMNXP"
      },
      "execution_count": null,
      "outputs": []
    },
    {
      "cell_type": "code",
      "source": [
        "# don't train existing weights\n",
        "for layer in densenet121.layers:\n",
        "    layer.trainable = False"
      ],
      "metadata": {
        "id": "1b8XDPj8MPjP"
      },
      "execution_count": null,
      "outputs": []
    },
    {
      "cell_type": "code",
      "source": [
        "  # useful for getting number of output classes\n",
        "folders = glob('/content/drive/MyDrive/SunflowerDiseaseClassification/new_dataset_v1/train/*')"
      ],
      "metadata": {
        "id": "p9H0mEdGNeio"
      },
      "execution_count": null,
      "outputs": []
    },
    {
      "cell_type": "code",
      "source": [
        "# our layers - you can add more if you want\n",
        "x = Flatten()(densenet121.output)"
      ],
      "metadata": {
        "id": "NpQYSncSNhI7"
      },
      "execution_count": null,
      "outputs": []
    },
    {
      "cell_type": "code",
      "source": [
        "prediction = Dense(len(folders), activation='softmax')(x)\n",
        "\n",
        "# create a model object\n",
        "model = Model(inputs=vgg16.input, outputs=prediction)"
      ],
      "metadata": {
        "id": "C3sMvloSNkoK"
      },
      "execution_count": null,
      "outputs": []
    },
    {
      "cell_type": "code",
      "source": [
        "# view the structure of the model\n",
        "model.summary()"
      ],
      "metadata": {
        "id": "7g8q2EqQNnxl"
      },
      "execution_count": null,
      "outputs": []
    },
    {
      "cell_type": "code",
      "source": [
        "# tell the model what cost and optimization method to use\n",
        "model.compile(\n",
        "  loss='categorical_crossentropy',\n",
        "  optimizer='adam',\n",
        "  metrics=['accuracy']\n",
        ")"
      ],
      "metadata": {
        "id": "d-x3X2IjNt2G"
      },
      "execution_count": null,
      "outputs": []
    },
    {
      "cell_type": "code",
      "source": [
        "# Use the Image Data Generator to import the images from the dataset\n",
        "from tensorflow.keras.preprocessing.image import ImageDataGenerator\n",
        "\n",
        "train_datagen = ImageDataGenerator(rescale = 1./255,\n",
        "                                   shear_range = 0.2,\n",
        "                                   zoom_range = 0.2,\n",
        "                                   horizontal_flip = True)\n",
        "\n",
        "test_datagen = ImageDataGenerator(rescale = 1./255)"
      ],
      "metadata": {
        "id": "wKF5KPW1NzpD"
      },
      "execution_count": null,
      "outputs": []
    },
    {
      "cell_type": "code",
      "source": [
        "# Make sure you provide the same target size as initialied for the image size\n",
        "training_set = train_datagen.flow_from_directory('/content/drive/MyDrive/SunflowerDiseaseClassification/new_dataset_v1/train',\n",
        "                                                 target_size = (224, 224),\n",
        "                                                 batch_size = 32,\n",
        "                                                 class_mode = 'categorical')"
      ],
      "metadata": {
        "id": "0Y5xZDSMN23x"
      },
      "execution_count": null,
      "outputs": []
    },
    {
      "cell_type": "code",
      "source": [
        "test_set = test_datagen.flow_from_directory('/content/drive/MyDrive/SunflowerDiseaseClassification/new_dataset_v1/val',\n",
        "                                            target_size = (224, 224),\n",
        "                                            batch_size = 32,\n",
        "                                            class_mode = 'categorical')"
      ],
      "metadata": {
        "id": "P9LxHeEXN5ju"
      },
      "execution_count": null,
      "outputs": []
    },
    {
      "cell_type": "code",
      "source": [
        "train_datagen = ImageDataGenerator()\n",
        "training_set = train_datagen.flow_from_directory(directory='/content/drive/MyDrive/SunflowerDiseaseClassification/new_dataset_v1/train',target_size=(224,224), shuffle=False, class_mode='categorical')\n",
        "test_datagen = ImageDataGenerator()\n",
        "test_set = test_datagen.flow_from_directory(directory='/content/drive/MyDrive/SunflowerDiseaseClassification/new_dataset_v1/val', target_size=(224,224),shuffle=False, class_mode='categorical')"
      ],
      "metadata": {
        "id": "JectLw9bgPLC"
      },
      "execution_count": null,
      "outputs": []
    },
    {
      "cell_type": "code",
      "source": [
        "training_steps_per_epoch = np.ceil(training_set.samples / batch_size)\n",
        "validation_steps_per_epoch = np.ceil(test_set.samples / batch_size)\n",
        "r=model.fit_generator(training_set, steps_per_epoch = training_steps_per_epoch, validation_data=test_set, validation_steps=validation_steps_per_epoch,epochs=epochs, verbose=1)\n",
        "print('Training Completed!')"
      ],
      "metadata": {
        "id": "Mwpb3RnGhQcU"
      },
      "execution_count": null,
      "outputs": []
    },
    {
      "cell_type": "code",
      "source": [
        "Y_pred = model.predict(test_set, test_set.samples / batch_size)\n",
        "val_preds = np.argmax(Y_pred, axis=1)\n",
        "import sklearn.metrics as metrics\n",
        "val_trues =test_set.classes\n",
        "from sklearn.metrics import classification_report\n",
        "print(classification_report(val_trues, val_preds))"
      ],
      "metadata": {
        "id": "12Q7xCLzkwjv"
      },
      "execution_count": null,
      "outputs": []
    },
    {
      "cell_type": "code",
      "source": [
        "# fit the model\n",
        "# Run the cell. It will take some time to execute\n",
        "\n",
        "\n",
        "training_steps_per_epoch = np.ceil(training_set.samples / batch_size)\n",
        "validation_steps_per_epoch = np.ceil(test_set.samples / batch_size)\n",
        "# model.fit_generator(training_set, steps_per_epoch = training_steps_per_epoch, validation_data=test_set, validation_steps=validation_steps_per_epoch,epochs=epochs, verbose=1)\n",
        "# print('Training Completed!')\n",
        "\n",
        "\n",
        "r = model.fit_generator(\n",
        "  training_set,\n",
        "  validation_data=test_set,\n",
        "  epochs=epochs,\n",
        "  steps_per_epoch=training_steps_per_epoch,\n",
        "  validation_steps=validation_steps_per_epoch\n",
        ")"
      ],
      "metadata": {
        "id": "RCIHZ_xVN80A"
      },
      "execution_count": null,
      "outputs": []
    },
    {
      "cell_type": "code",
      "source": [
        "Y_pred = model.predict(test_set, test_set.samples / batch_size)\n",
        "val_preds = np.argmax(Y_pred, axis=1)\n",
        "import sklearn.metrics as metrics\n",
        "val_trues =test_set.classes\n",
        "from sklearn.metrics import classification_report\n",
        "print(classification_report(val_trues, val_preds))"
      ],
      "metadata": {
        "id": "hMgWx7wtrONh"
      },
      "execution_count": null,
      "outputs": []
    },
    {
      "cell_type": "code",
      "source": [
        "import matplotlib.pyplot as plt"
      ],
      "metadata": {
        "id": "ppcLRyTEBDfk"
      },
      "execution_count": null,
      "outputs": []
    },
    {
      "cell_type": "code",
      "source": [
        "# import all the metrics we'll use later on\n",
        "from sklearn.metrics import (\n",
        "    confusion_matrix,\n",
        "    accuracy_score,\n",
        "    precision_score,\n",
        "    recall_score,\n",
        "    f1_score\n",
        ")\n"
      ],
      "metadata": {
        "id": "lBM-b8YVBQoC"
      },
      "execution_count": null,
      "outputs": []
    },
    {
      "cell_type": "code",
      "source": [
        "prediction_RF = model.predict(test_set)\n"
      ],
      "metadata": {
        "id": "tUGRt9DqHLFV"
      },
      "execution_count": null,
      "outputs": []
    },
    {
      "cell_type": "code",
      "source": [
        "# from sklearn.metrics import plot_confusion_matrix\n",
        "from sklearn.metrics import precision_recall_curve, auc, roc_curve\n",
        "import math\n",
        "from sklearn.metrics import normalized_mutual_info_score\n",
        "from sklearn.metrics import confusion_matrix\n",
        "from sklearn.metrics import f1_score,precision_score,recall_score\n",
        "# from sklearn.metrics.classification import accuracy_score, log_loss\n",
        "# print('Shape of x_train: ', training_set.shape)\n",
        "print('Shape of y_train: ', prediction_RF.size)\n",
        "# print('Shape of x_test : ', xtest.shape)\n",
        "# print('shape of y_test : ', ytest.shape)\n",
        "print('Precision score  : ', precision_score(test_set, prediction_RF, average='micro'))\n",
        "print('Recall score  : ', recall_score(test_set, prediction_RF, average='micro'))\n",
        "print('f1 score : ', f1_score(test_set, prediction_RF, average='micro'))"
      ],
      "metadata": {
        "id": "C6uPTYc8IfXA"
      },
      "execution_count": null,
      "outputs": []
    },
    {
      "cell_type": "code",
      "source": [
        "# Generate confusion matrix for the predictions\n",
        "conf_matrix = confusion_matrix(test_set, prediction_RF)\n",
        "conf_matrix"
      ],
      "metadata": {
        "id": "dleujNWTIE7o"
      },
      "execution_count": null,
      "outputs": []
    }
  ]
}